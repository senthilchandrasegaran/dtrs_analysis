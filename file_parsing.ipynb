{
 "cells": [
  {
   "cell_type": "markdown",
   "metadata": {},
   "source": [
    "# Reading and Cleaning Datasets\n",
    "Each of the DTRS datasets have slightly different formats, so this notebook reads all of them, cleans up the text, and saves them as CSV files in the following format:\n",
    "\n",
    "`dataset ; session ; speaker ; utterance `\n",
    "\n",
    "\n"
   ]
  },
  {
   "cell_type": "code",
   "execution_count": 1,
   "metadata": {},
   "outputs": [],
   "source": [
    "import re\n",
    "import pandas as pd"
   ]
  },
  {
   "cell_type": "code",
   "execution_count": 2,
   "metadata": {},
   "outputs": [],
   "source": [
    "with open('data/filenames.txt') as fo:\n",
    "    filenames = fo.read()\n",
    "filenames=filenames.split('\\n')"
   ]
  },
  {
   "cell_type": "code",
   "execution_count": 3,
   "metadata": {},
   "outputs": [],
   "source": [
    "def read_file_into_string(file_name, dir_name='data/'):\n",
    "    if file_name != '' :\n",
    "        file_path = dir_name+file_name\n",
    "        with open(file_path) as f:\n",
    "            sentences_string = f.read()\n",
    "        return sentences_string\n",
    "    else :\n",
    "        print('no file read')\n",
    "        return ''"
   ]
  },
  {
   "cell_type": "code",
   "execution_count": 4,
   "metadata": {},
   "outputs": [],
   "source": [
    "def clean_text(input_text):\n",
    "    text_without_carriage_returns = input_text.replace('\\r', ' ').replace('\\n', ' ')\n",
    "    text_without_tabs = text_without_carriage_returns.replace('\\t', ' ')\n",
    "    # add other code to remove special characters that need removing here\n",
    "    cleaned_text = text_without_tabs\n",
    "    return cleaned_text"
   ]
  },
  {
   "cell_type": "code",
   "execution_count": 5,
   "metadata": {},
   "outputs": [],
   "source": [
    "def break_lines(input_str):\n",
    "    text_linebreaks_str = re.sub(\"[a-zA-Z]+:\", '\\n'+'\\g<0>', input_str)\n",
    "    lines_output = text_linebreaks_str.split('\\n')\n",
    "    lines_without_blanks = [line.strip() for line in lines_output if line != '']\n",
    "    return lines_without_blanks"
   ]
  },
  {
   "cell_type": "code",
   "execution_count": 6,
   "metadata": {},
   "outputs": [],
   "source": [
    "def convert_text_to_columns(string_list, additional_columns):\n",
    "    data_columns = []\n",
    "    i=0\n",
    "    for line in string_list:\n",
    "        split_dialogue = line.split(':')\n",
    "        if len(split_dialogue) > 2 :\n",
    "            speaker = split_dialogue[0].strip()\n",
    "            remaining_dialogue = ':'.join(split_dialogue[1:]).strip()\n",
    "        elif len(split_dialogue) == 2 :\n",
    "            speaker = split_dialogue[0].strip()\n",
    "            remaining_dialogue = split_dialogue[1].strip()\n",
    "        elif len(split_dialogue) < 2:\n",
    "            print(\"weird format!\")\n",
    "            print(dialogue)\n",
    "            print(\"-----\")\n",
    "            continue\n",
    "        data_columns.append(additional_columns + [speaker, remaining_dialogue])\n",
    "    return data_columns"
   ]
  },
  {
   "cell_type": "code",
   "execution_count": 7,
   "metadata": {},
   "outputs": [],
   "source": [
    "def write_csv(df, file_name, column_names, write_path='output/'):\n",
    "    df.applymap(lambda x: x.replace('\"', ''))\n",
    "    df.applymap(lambda x: x.replace(';', ','))\n",
    "    df.to_csv(write_path+file_name, sep=';', columns=column_names, index=False, header=True)"
   ]
  },
  {
   "cell_type": "code",
   "execution_count": 8,
   "metadata": {},
   "outputs": [],
   "source": [
    "def convert_file_to_dataframe(file_name,\n",
    "                              dir_name='data/',\n",
    "                              write_output_file=False,\n",
    "                              output_dir='output/'):\n",
    "    dataset_name = ('-').join(file_name.split('-')[0:2])\n",
    "    session_name = ('-').join(file_name.split('-')[2:]).split('.')[0]\n",
    "    file_content = read_file_into_string(file_name, dir_name=dir_name)\n",
    "    column_names = ['dataset', 'session', 'speaker', 'utterance']\n",
    "    lines = break_lines(clean_text(file_content))\n",
    "    columns_to_add = [dataset_name, session_name]\n",
    "    text_columns = convert_text_to_columns(lines, columns_to_add)\n",
    "    df = pd.DataFrame(text_columns, columns=column_names)\n",
    "    if write_output_file :\n",
    "        write_csv(df, file_name, column_names)\n",
    "    return df"
   ]
  },
  {
   "cell_type": "code",
   "execution_count": 9,
   "metadata": {},
   "outputs": [],
   "source": [
    "filenames = [f for f in filenames if f != '' and f != ' ']"
   ]
  },
  {
   "cell_type": "code",
   "execution_count": 10,
   "metadata": {},
   "outputs": [],
   "source": [
    "df = None\n",
    "for filename in filenames:\n",
    "    if df is None :\n",
    "        df = convert_file_to_dataframe(filename, write_output_file=True)\n",
    "    else :\n",
    "        df_to_append = convert_file_to_dataframe(filename, write_output_file=True)\n",
    "        df = df.append(df_to_append)"
   ]
  },
  {
   "cell_type": "code",
   "execution_count": 11,
   "metadata": {},
   "outputs": [
    {
     "name": "stdout",
     "output_type": "stream",
     "text": [
      "(20902, 4)\n"
     ]
    },
    {
     "data": {
      "text/html": [
       "<div>\n",
       "<style scoped>\n",
       "    .dataframe tbody tr th:only-of-type {\n",
       "        vertical-align: middle;\n",
       "    }\n",
       "\n",
       "    .dataframe tbody tr th {\n",
       "        vertical-align: top;\n",
       "    }\n",
       "\n",
       "    .dataframe thead th {\n",
       "        text-align: right;\n",
       "    }\n",
       "</style>\n",
       "<table border=\"1\" class=\"dataframe\">\n",
       "  <thead>\n",
       "    <tr style=\"text-align: right;\">\n",
       "      <th></th>\n",
       "      <th>dataset</th>\n",
       "      <th>session</th>\n",
       "      <th>speaker</th>\n",
       "      <th>utterance</th>\n",
       "    </tr>\n",
       "  </thead>\n",
       "  <tbody>\n",
       "    <tr>\n",
       "      <th>37</th>\n",
       "      <td>dtrs-07</td>\n",
       "      <td>engineers-meeting-02</td>\n",
       "      <td>MaleA</td>\n",
       "      <td>Erm you have to follow the  You don't necessar...</td>\n",
       "    </tr>\n",
       "    <tr>\n",
       "      <th>38</th>\n",
       "      <td>dtrs-07</td>\n",
       "      <td>engineers-meeting-02</td>\n",
       "      <td>MaleE</td>\n",
       "      <td>So the quality of the image would depend on the-</td>\n",
       "    </tr>\n",
       "    <tr>\n",
       "      <th>39</th>\n",
       "      <td>dtrs-07</td>\n",
       "      <td>engineers-meeting-02</td>\n",
       "      <td>MaleA</td>\n",
       "      <td>The qual-</td>\n",
       "    </tr>\n",
       "    <tr>\n",
       "      <th>40</th>\n",
       "      <td>dtrs-07</td>\n",
       "      <td>engineers-meeting-02</td>\n",
       "      <td>MaleE</td>\n",
       "      <td>nominal speed and how you would match that if ...</td>\n",
       "    </tr>\n",
       "    <tr>\n",
       "      <th>41</th>\n",
       "      <td>dtrs-07</td>\n",
       "      <td>engineers-meeting-02</td>\n",
       "      <td>MaleA</td>\n",
       "      <td>Yeah absolutely yeah</td>\n",
       "    </tr>\n",
       "  </tbody>\n",
       "</table>\n",
       "</div>"
      ],
      "text/plain": [
       "    dataset               session speaker  \\\n",
       "37  dtrs-07  engineers-meeting-02   MaleA   \n",
       "38  dtrs-07  engineers-meeting-02   MaleE   \n",
       "39  dtrs-07  engineers-meeting-02   MaleA   \n",
       "40  dtrs-07  engineers-meeting-02   MaleE   \n",
       "41  dtrs-07  engineers-meeting-02   MaleA   \n",
       "\n",
       "                                            utterance  \n",
       "37  Erm you have to follow the  You don't necessar...  \n",
       "38   So the quality of the image would depend on the-  \n",
       "39                                          The qual-  \n",
       "40  nominal speed and how you would match that if ...  \n",
       "41                               Yeah absolutely yeah  "
      ]
     },
     "execution_count": 11,
     "metadata": {},
     "output_type": "execute_result"
    }
   ],
   "source": [
    "print(df.shape)\n",
    "df[6240:6245]"
   ]
  }
 ],
 "metadata": {
  "kernelspec": {
   "display_name": "Python 3",
   "language": "python",
   "name": "python3"
  },
  "language_info": {
   "codemirror_mode": {
    "name": "ipython",
    "version": 3
   },
   "file_extension": ".py",
   "mimetype": "text/x-python",
   "name": "python",
   "nbconvert_exporter": "python",
   "pygments_lexer": "ipython3",
   "version": "3.9.0"
  }
 },
 "nbformat": 4,
 "nbformat_minor": 4
}
