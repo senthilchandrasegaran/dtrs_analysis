{
 "cells": [
  {
   "cell_type": "code",
   "execution_count": 1,
   "metadata": {},
   "outputs": [],
   "source": [
    "import re\n",
    "import pandas as pd\n",
    "from os import listdir\n",
    "from os.path import isfile, join"
   ]
  },
  {
   "cell_type": "code",
   "execution_count": 2,
   "metadata": {},
   "outputs": [
    {
     "data": {
      "text/plain": [
       "['Abstract-S01E01-Christoph_Nieman-Illustration.srt',\n",
       " 'Abstract-S01E02-Tinker_Hatfield-Footwear_Design.srt',\n",
       " 'Abstract-S01E03-Es_Devlin-Stage_Design.srt',\n",
       " 'Abstract-S01E04-Bjarke_Ingels-Architecture.srt',\n",
       " 'Abstract-S01E05-Ralph_Giles-Automotive_Design.srt',\n",
       " 'Abstract-S01E06-Paula_Scher-Graphic_Design.srt',\n",
       " 'Abstract-S01E07-Platon-Photography.srt',\n",
       " 'Abstract-S01E08-Ilse_Crawford-Interior_Design.srt',\n",
       " 'Abstract-S02E01-Olafur_Eliasson-The_Design_of_Art.srt',\n",
       " 'Abstract-S02E02-Neri_Oxman-Bio_Architecture.srt',\n",
       " 'Abstract-S02E03-Ruth_Carter-Costume_Design.srt',\n",
       " 'Abstract-S02E04-Cas_Holman-Design_for_Play.srt',\n",
       " 'Abstract-S02E05-Ian_Spalter-Digital_Product_Design.srt',\n",
       " 'Abstract-S02E06-Jonathan_Hoefler-Typeface_Design.srt']"
      ]
     },
     "execution_count": 2,
     "metadata": {},
     "output_type": "execute_result"
    }
   ],
   "source": [
    "mypath = './abstract-transcripts/'\n",
    "onlyfiles = [f for f in listdir(mypath) if isfile(join(mypath, f))]\n",
    "srt_files = [f for f in onlyfiles if '.srt' in f]\n",
    "srt_files.sort()\n",
    "srt_files"
   ]
  },
  {
   "cell_type": "code",
   "execution_count": 3,
   "metadata": {},
   "outputs": [],
   "source": [
    "def read_file_into_string(file_name, dir_name='.'):\n",
    "    if file_name != '' :\n",
    "        file_path = dir_name+file_name\n",
    "        with open(file_path) as f:\n",
    "            sentences_string = f.read()\n",
    "        return sentences_string\n",
    "    else :\n",
    "        print('no file read')\n",
    "        return ''\n",
    "        \n",
    "def clean_file_text(text, remove_voiceover_labels=True):\n",
    "    text_lines = text.split('\\n')\n",
    "    text_nonempty_lines = [t for t in text_lines if len(t) > 0]\n",
    "    text_no_timestamps = [t for t in text_nonempty_lines if not t[0].isdigit()]\n",
    "    text_no_html = [t.replace('<i>', '')\n",
    "                    .replace('</i>', '')\n",
    "                    .replace('<b>', '')\n",
    "                    .replace('</b>', '') for t in text_no_timestamps]\n",
    "    if remove_voiceover_labels :\n",
    "        text_no_labels = [re.sub('\\[[A-Za-z ]+\\]', '', t) for t in text_no_html]\n",
    "        text_final = [t.strip() for t in text_no_labels]\n",
    "    else :\n",
    "        text_final = [t.strip() for t in text_no_html]\n",
    "    text_nonempty_lines = [t for t in text_final if len(t) > 0]\n",
    "    return text_nonempty_lines\n",
    "        "
   ]
  },
  {
   "cell_type": "code",
   "execution_count": 4,
   "metadata": {},
   "outputs": [
    {
     "name": "stdout",
     "output_type": "stream",
     "text": [
      "Abstract-S01E01-Christoph_Nieman-Illustration.srt\n",
      "880\n",
      "Abstract-S01E02-Tinker_Hatfield-Footwear_Design.srt\n",
      "1037\n",
      "Abstract-S01E03-Es_Devlin-Stage_Design.srt\n",
      "989\n",
      "Abstract-S01E04-Bjarke_Ingels-Architecture.srt\n",
      "971\n",
      "Abstract-S01E05-Ralph_Giles-Automotive_Design.srt\n",
      "1249\n",
      "Abstract-S01E06-Paula_Scher-Graphic_Design.srt\n",
      "953\n",
      "Abstract-S01E07-Platon-Photography.srt\n",
      "902\n",
      "Abstract-S01E08-Ilse_Crawford-Interior_Design.srt\n",
      "929\n",
      "Abstract-S02E01-Olafur_Eliasson-The_Design_of_Art.srt\n",
      "1000\n",
      "Abstract-S02E02-Neri_Oxman-Bio_Architecture.srt\n",
      "1010\n",
      "Abstract-S02E03-Ruth_Carter-Costume_Design.srt\n",
      "1076\n",
      "Abstract-S02E04-Cas_Holman-Design_for_Play.srt\n",
      "1183\n",
      "Abstract-S02E05-Ian_Spalter-Digital_Product_Design.srt\n",
      "1374\n",
      "Abstract-S02E06-Jonathan_Hoefler-Typeface_Design.srt\n",
      "1257\n"
     ]
    },
    {
     "data": {
      "text/plain": [
       "14810"
      ]
     },
     "execution_count": 4,
     "metadata": {},
     "output_type": "execute_result"
    }
   ],
   "source": [
    "all_text = []\n",
    "for file_str in srt_files :\n",
    "    print(file_str)\n",
    "    text = read_file_into_string(file_str, dir_name=mypath)\n",
    "    text_list = clean_file_text(text)\n",
    "    print(len(text_list))\n",
    "    all_text.extend(text_list)\n",
    "len(all_text)"
   ]
  },
  {
   "cell_type": "code",
   "execution_count": 5,
   "metadata": {},
   "outputs": [],
   "source": [
    "with open('./output/abstract_text.txt', 'w') as fw:\n",
    "    for line in all_text:\n",
    "        fw.write(\"%s\\n\" % line)"
   ]
  },
  {
   "cell_type": "code",
   "execution_count": null,
   "metadata": {},
   "outputs": [],
   "source": []
  },
  {
   "cell_type": "code",
   "execution_count": null,
   "metadata": {},
   "outputs": [],
   "source": []
  }
 ],
 "metadata": {
  "kernelspec": {
   "display_name": "Python 3",
   "language": "python",
   "name": "python3"
  },
  "language_info": {
   "codemirror_mode": {
    "name": "ipython",
    "version": 3
   },
   "file_extension": ".py",
   "mimetype": "text/x-python",
   "name": "python",
   "nbconvert_exporter": "python",
   "pygments_lexer": "ipython3",
   "version": "3.9.0"
  }
 },
 "nbformat": 4,
 "nbformat_minor": 4
}
