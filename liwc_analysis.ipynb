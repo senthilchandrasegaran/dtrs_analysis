{
 "cells": [
  {
   "cell_type": "markdown",
   "metadata": {},
   "source": [
    "# Lexical Category Analysis with LIWC\n",
    "A way to analyze any DTRS dataset using lexical categories from LIWC.\n",
    "Uses the liwc library, [install from GitHub](https://github.com/evanll/liwc-text-analysis-python)"
   ]
  },
  {
   "cell_type": "code",
   "execution_count": 1,
   "metadata": {},
   "outputs": [],
   "source": [
    "import sys\n",
    "import re\n",
    "import glob\n",
    "import spacy\n",
    "import pandas as pd\n",
    "import matplotlib.pyplot as plt\n",
    "import seaborn as sns\n",
    "import numpy as np\n",
    "from IPython.display import Markdown, display\n",
    "from spacy.lemmatizer import Lemmatizer\n",
    "from spacy.lookups import Lookups"
   ]
  },
  {
   "cell_type": "code",
   "execution_count": 2,
   "metadata": {},
   "outputs": [],
   "source": [
    "def printmd(string):\n",
    "    display(Markdown(string))"
   ]
  },
  {
   "cell_type": "markdown",
   "metadata": {},
   "source": [
    "## Load DTRS datasets\n",
    "Load pre-processed DTRS datasets into a dataframe"
   ]
  },
  {
   "cell_type": "code",
   "execution_count": 3,
   "metadata": {},
   "outputs": [
    {
     "name": "stdout",
     "output_type": "stream",
     "text": [
      "Read 65 files and loaded 20902 rows into the dataframe.\n"
     ]
    }
   ],
   "source": [
    "files = glob.glob('./output/*.txt')\n",
    "\n",
    "df_list = []\n",
    "\n",
    "for filename in files:\n",
    "    df_file = pd.read_csv(filename, sep=';')\n",
    "    df_list.append(df_file)\n",
    "\n",
    "df = pd.concat(df_list, axis=0, ignore_index=True)\n",
    "print(\"Read\", len(files), \"files and loaded\", df.shape[0], \"rows into the dataframe.\")"
   ]
  },
  {
   "cell_type": "code",
   "execution_count": 4,
   "metadata": {},
   "outputs": [
    {
     "data": {
      "text/html": [
       "<div>\n",
       "<style scoped>\n",
       "    .dataframe tbody tr th:only-of-type {\n",
       "        vertical-align: middle;\n",
       "    }\n",
       "\n",
       "    .dataframe tbody tr th {\n",
       "        vertical-align: top;\n",
       "    }\n",
       "\n",
       "    .dataframe thead th {\n",
       "        text-align: right;\n",
       "    }\n",
       "</style>\n",
       "<table border=\"1\" class=\"dataframe\">\n",
       "  <thead>\n",
       "    <tr style=\"text-align: right;\">\n",
       "      <th></th>\n",
       "      <th>dataset</th>\n",
       "      <th>session</th>\n",
       "      <th>speaker</th>\n",
       "      <th>utterance</th>\n",
       "    </tr>\n",
       "  </thead>\n",
       "  <tbody>\n",
       "    <tr>\n",
       "      <th>0</th>\n",
       "      <td>dtrs-10</td>\n",
       "      <td>grad-2-concept-review-sharon</td>\n",
       "      <td>Steve</td>\n",
       "      <td>Next.  Okay whose turn?  Wilson?</td>\n",
       "    </tr>\n",
       "    <tr>\n",
       "      <th>1</th>\n",
       "      <td>dtrs-10</td>\n",
       "      <td>grad-2-concept-review-sharon</td>\n",
       "      <td>Wilson</td>\n",
       "      <td>Huh?</td>\n",
       "    </tr>\n",
       "    <tr>\n",
       "      <th>2</th>\n",
       "      <td>dtrs-10</td>\n",
       "      <td>grad-2-concept-review-sharon</td>\n",
       "      <td>Steve</td>\n",
       "      <td>You’re talking, it’s your turn.</td>\n",
       "    </tr>\n",
       "    <tr>\n",
       "      <th>3</th>\n",
       "      <td>dtrs-10</td>\n",
       "      <td>grad-2-concept-review-sharon</td>\n",
       "      <td>Wilson</td>\n",
       "      <td>It’s my turn?</td>\n",
       "    </tr>\n",
       "    <tr>\n",
       "      <th>4</th>\n",
       "      <td>dtrs-10</td>\n",
       "      <td>grad-2-concept-review-sharon</td>\n",
       "      <td>Steve</td>\n",
       "      <td>You critique it.  What’s working.  Explain the...</td>\n",
       "    </tr>\n",
       "    <tr>\n",
       "      <th>5</th>\n",
       "      <td>dtrs-10</td>\n",
       "      <td>grad-2-concept-review-sharon</td>\n",
       "      <td>Wilson</td>\n",
       "      <td>Let me take a look.  Uh.  So it is uh a coat h...</td>\n",
       "    </tr>\n",
       "    <tr>\n",
       "      <th>6</th>\n",
       "      <td>dtrs-10</td>\n",
       "      <td>grad-2-concept-review-sharon</td>\n",
       "      <td>Steve</td>\n",
       "      <td>OK.  It makes sense.  Okay, what is good about...</td>\n",
       "    </tr>\n",
       "    <tr>\n",
       "      <th>7</th>\n",
       "      <td>dtrs-10</td>\n",
       "      <td>grad-2-concept-review-sharon</td>\n",
       "      <td>Wilson</td>\n",
       "      <td>I think the storyboard it make very good sense.</td>\n",
       "    </tr>\n",
       "    <tr>\n",
       "      <th>8</th>\n",
       "      <td>dtrs-10</td>\n",
       "      <td>grad-2-concept-review-sharon</td>\n",
       "      <td>Steve</td>\n",
       "      <td>Okay.</td>\n",
       "    </tr>\n",
       "    <tr>\n",
       "      <th>9</th>\n",
       "      <td>dtrs-10</td>\n",
       "      <td>grad-2-concept-review-sharon</td>\n",
       "      <td>Wilson</td>\n",
       "      <td>Yes.</td>\n",
       "    </tr>\n",
       "  </tbody>\n",
       "</table>\n",
       "</div>"
      ],
      "text/plain": [
       "   dataset                       session speaker  \\\n",
       "0  dtrs-10  grad-2-concept-review-sharon   Steve   \n",
       "1  dtrs-10  grad-2-concept-review-sharon  Wilson   \n",
       "2  dtrs-10  grad-2-concept-review-sharon   Steve   \n",
       "3  dtrs-10  grad-2-concept-review-sharon  Wilson   \n",
       "4  dtrs-10  grad-2-concept-review-sharon   Steve   \n",
       "5  dtrs-10  grad-2-concept-review-sharon  Wilson   \n",
       "6  dtrs-10  grad-2-concept-review-sharon   Steve   \n",
       "7  dtrs-10  grad-2-concept-review-sharon  Wilson   \n",
       "8  dtrs-10  grad-2-concept-review-sharon   Steve   \n",
       "9  dtrs-10  grad-2-concept-review-sharon  Wilson   \n",
       "\n",
       "                                           utterance  \n",
       "0                   Next.  Okay whose turn?  Wilson?  \n",
       "1                                               Huh?  \n",
       "2                    You’re talking, it’s your turn.  \n",
       "3                                      It’s my turn?  \n",
       "4  You critique it.  What’s working.  Explain the...  \n",
       "5  Let me take a look.  Uh.  So it is uh a coat h...  \n",
       "6  OK.  It makes sense.  Okay, what is good about...  \n",
       "7    I think the storyboard it make very good sense.  \n",
       "8                                              Okay.  \n",
       "9                                               Yes.  "
      ]
     },
     "execution_count": 4,
     "metadata": {},
     "output_type": "execute_result"
    }
   ],
   "source": [
    "df[0:10]"
   ]
  },
  {
   "cell_type": "markdown",
   "metadata": {},
   "source": [
    "## Extract List of Terms from LIWC\n",
    "The list below is a placeholder. Ideally we would like to replace the list below with a list of category terms from LIWC."
   ]
  },
  {
   "cell_type": "code",
   "execution_count": 5,
   "metadata": {},
   "outputs": [],
   "source": [
    "liwc_test = [\"swim\", \"walk\", \"paddle\", \"ride\", \"crawl\", \"scoot\", \"paddling\",\n",
    "     \"drag\", \"swim\", \"waddle\", \"gallop\", \"jump\", \"Swim\", \"feet\", \"fly\",\n",
    "     \"pedal\", \"trail\", \"skate\", \"slip\", \"haul\", \"slide\", \"jog\", \"jog\",\n",
    "     \"crawl\", \"climb_trees\", \"chase\", \"walk\", \"faceplant\", \"boat\",\n",
    "     \"catch\", \"knuckle\", \"riding\", \"hike\", \"fling\", \"uphill\",\n",
    "     \"snowboard\", \"swimming\", \"long_board\", \"float\", \"hop\", \"sprint\",\n",
    "     \"raft\", \"bonk\", \"hike\", \"walk/run\", \"dismount\", \"mosey\", \"limp\",\n",
    "     \"train\", \"scurry\", \"whack\", \"ditch\", \"skateboard\", \"duck\", \"kayak\",\n",
    "     \"huck\", \"ski\", \"saunter\", \"wheel\", \"dart\", \"paddling\", \"sideways\",\n",
    "     \"sail\", \"plow\", \"yank\", \"fly\", \"loaf\", \"dive\", \"head\", \"drive\",\n",
    "     \"legs\", \"kayak\", \"town\", \"lumber\", \"lay\", \"step\", \"skateboard\",\n",
    "     \"hump\", \"sit\", \"climb\", \"shimmy\", \"pound\", \"scoot\", \"trail\", \"zip\",\n",
    "     \"soft_sand\", \"long_ride\", \"feet\", \"glide\", \"trudge\", \"deep_water\",\n",
    "     \"skid\", \"strap\", \"beach\", \"putter\", \"maneuver\"]\n",
    "\n",
    "liwc_tentative = [\"pretty\", \"confused\", \"hesitant\", \"hopefully\", \"confusing\", \"hoping\",\n",
    "    \"doubt\", \"doubting\", \"hope\", \"confuse\", \"hoped\", \"luck\", \"lucky\", \"any\",\n",
    "    \"questions\", \"kind of\", \"probably\", \"something\", \"or\", \"anything\",\n",
    "    \"may\", \"some\", \"try\", \"perhaps\", \"if\", \"possible\", \"bet\", \"guess\",\n",
    "    \"anyhow\", \"most\", \"quite\", \"might\", \"sort\", \"somewhat\", \"assuming\",\n",
    "    \"supposed\", \"seem\", \"somebody\", \"maybe\", \"someone\", \"assume\", \"trying\",\n",
    "    \"lot\", \"question\", \"sometimes\", \"option\", \"dunno\", \"approximately\",\n",
    "    \"sorta\", \"generally\", \"options\", \"possibility\", \"kinda\", \"kind of\", \"overall\",\n",
    "    \"seems\", \"wondering\", \"somewhere\", \"sometime\", \"assumption\",\n",
    "    \"potentially\", \"possibly\", \"optional\", \"optionally\", \"mostly\", \"almost\",\n",
    "    \"depending\", \"often\", \"seemed\", \"potential\", \"temporarily\",\n",
    "    \"occasionally\", \"wonder\", \"someone's\", \"lots\", \"opinion\", \"apparently\",\n",
    "    \"somehow\", \"somebody's\", \"suppose\", \"barely\", \"usually\", \"random\",\n",
    "    \"vary\", \"anywhere\", \"puzzle\", \"practically\", \"fairly\", \"wondered\",\n",
    "    \"depends\", \"appears\", \"unknown\", \"assumed\", \"probablyâ\", \"unlikely\",\n",
    "    \"mainly\", \"something's\", \"vaguely\", \"sorts\", \"theory\", \"chance\",\n",
    "    \"typically\", \"possibleâ\", \"confusion\", \"virtually\", \"anyone\",\n",
    "    \"appearing\", \"depend\", \"anybody\", \"likely\", \"unclear\", \"supposing\",\n",
    "    \"possibilities\", \"appear\", \"alot\", \"border\", \"assumes\", \"guessing\",\n",
    "    \"hardly\", \"anytime\", \"temporary\", \"randomly\", \"lotta\", \"hypothetical\",\n",
    "    \"contingent\", \"someday\", \"undecided\", \"hypothesize\", \"blurred\",\n",
    "    \"variable\", \"theoretically\", \"partly\", \"borderline\", \"variables\",\n",
    "    \"feasible\", \"confusions\", \"somethingo\", \"mystery\", \"questioning\",\n",
    "    \"assumptions\", \"possibilites\", \"betting\", \"indirectly\", \"supposedly\",\n",
    "    \"varies\", \"vague\", \"vaguely\", \"temporally\", \"indirect\", \"puzzling\"]\n",
    "\n",
    "liwc_approx_vague = [\"vaguely\", \"kinda\", \"kind of\", \"sorta\", \"somewhat\" ]\n",
    "liwc_possibility = [\"if\", \"maybe\", \"might\", \"perhaps\", \"possibly\", \"probably\"]\n",
    "\n",
    "liwc_tentative_groups = [\n",
    "    { \"group\" : \"approx-moderate\",\n",
    "      \"words\" : [ \"approximately\", \"partly\", \"most\", \"often\",\n",
    "                  \"occasionally\", \"sometimes\", \"mainly\", \"mostly\",\n",
    "                  \"generally\", \"typically\", \"usually\" ] \n",
    "    },\n",
    "    { \"group\" : \"approx-extreme\",\n",
    "      \"words\" : [ \"barely\", \"hardly\", \"almost\", \"practically\", \"virtually\", \"fairly\", \"pretty\", \"quite\"]\n",
    "    },\n",
    "    { \"group\" : \"approx-vague\",\n",
    "      \"words\" : [\"vaguely\", \"kinda\", \"kind of\", \"sorta\", \"somewhat\" ]\n",
    "    },\n",
    "    { \"group\" : \"quantity\",\n",
    "      \"words\" : [ \"alot\", \"lot\", \"lots\", \"some\", \"sort\", \"sorts\" ] \n",
    "    },\n",
    "    { \"group\" : \"pronoun-indef\",\n",
    "      \"words\" : [ \"any\", \"anybody\", \"anyone\", \"anything\", \"anytime\",\n",
    "                  \"anywhere\", \"or\", \"somebody\", \"somebody's\", \"someone\",\n",
    "                  \"someone's\", \"something\", \"somethingo\", \"something's\", \"somewhere\" ]\n",
    "    },\n",
    "    { \"group\" : \"ostension\",\n",
    "      \"words\" : [ \"anyhow\", \"apparently\", \"appears\", \"dunno\", \"seem\",\n",
    "                  \"seemed\", \"seems\", \"somehow\", \"supposedly\" ] \n",
    "    },\n",
    "    { \"group\" : \"possibility\",\n",
    "      \"words\" : [ \"if\", \"maybe\", \"might\", \"perhaps\", \"possibly\",\n",
    "                  \"probably\", \"probablyâ\" ] # last one is a typo in the dataset\n",
    "    },\n",
    "    { \"group\" : \"hypothesis\",\n",
    "      \"words\" : [ \"assumption\", \"assumptions\", \"hypothesize\",\n",
    "                  \"hypothetical\", \"theory\"] \n",
    "    },\n",
    "    { \"group\" : \"speculation\",\n",
    "      \"words\" : [ \"doubt\", \"wonder\", \"wondered\", \"wondering\" ]\n",
    "    },\n",
    "    { \"group\" : \"assumption\",\n",
    "      \"words\" : [ \"assume\", \"assumed\", \"assumes\", \"assuming\", \"guess\",\n",
    "                  \"guessing\", \"suppose\", \"supposed\", \"supposing\"] },\n",
    "    { \"group\" : \"aspiration\",\n",
    "      \"words\" : [ \"hope\", \"hoped\", \"hopefully\", \"hoping\", \"may\",\n",
    "                  \"someday\", \"sometime\", \"potentially\", \"theoretically\",\n",
    "                  \"likely\", \"unlikely\"]\n",
    "    },\n",
    "    { \"group\" : \"feasibility\",\n",
    "      \"words\" : [ \"chance\", \"feasible\", \"possibilities\", \"possibility\",\n",
    "                  \"possibilites\", \"possibleâ\", # typos present in the dataset? \n",
    "                  \"possible\", \"potential\", \"try\", \"trying\"] \n",
    "    },\n",
    "    { \"group\" : \"contingence\",\n",
    "      \"words\" : [ \"contingent\", \"depend\", \"depending\", \"depends\",\n",
    "                  \"option\", \"optional\", \"optionally\", \"options\",\n",
    "                  \"random\", \"randomly\", \"variable\", \"variables\",\n",
    "                  \"varies\", \"vary\" ]\n",
    "    },\n",
    "    { \"group\" : \"opinion\",\n",
    "      \"words\" : [ \"bet\", \"betting\", \"doubting\", \"hesitant\", \"luck\",\n",
    "                  \"lucky\", \"opinion\", \"question\", \"questioning\",\n",
    "                  \"questions\", \"undecided\" ] \n",
    "    },\n",
    "    { \"group\" : \"tendency\",\n",
    "      \"words\" : [ \"appear\", \"appearing\", \"border\", \"borderline\",\n",
    "                  \"indirect\", \"indirectly\", \"lotta\", \"overall\",\n",
    "                  \"temporally\", \"temporary\", \"temporarily\" ]\n",
    "    },\n",
    "    { \"group\" : \"vagueness\",\n",
    "      \"words\" : [ \"blurred\", \"confuse\", \"confused\", \"confusing\",\n",
    "                  \"confusion\", \"confusions\", \"mystery\", \"puzzle\",\n",
    "                  \"puzzling\", \"unclear\", \"unknown\", \"vague\" ] \n",
    "    }\n",
    "]\n",
    "\n",
    "liwc_groups_df = pd.DataFrame(liwc_tentative_groups)"
   ]
  },
  {
   "cell_type": "code",
   "execution_count": 6,
   "metadata": {},
   "outputs": [
    {
     "data": {
      "text/plain": [
       "['vaguely', 'kinda', 'kind of', 'sorta', 'somewhat']"
      ]
     },
     "execution_count": 6,
     "metadata": {},
     "output_type": "execute_result"
    }
   ],
   "source": [
    "liwc_subcat_name = \"approx-vague\"\n",
    "liwc_subcat = list(liwc_groups_df[liwc_groups_df['group'] == liwc_subcat_name]['words'])[0]\n",
    "liwc_subcat"
   ]
  },
  {
   "cell_type": "code",
   "execution_count": 7,
   "metadata": {},
   "outputs": [
    {
     "name": "stdout",
     "output_type": "stream",
     "text": [
      "['kind of', 'kinda', 'somewhat', 'sorta', 'vaguely']\n"
     ]
    }
   ],
   "source": [
    "liwc_subcat.sort()\n",
    "print(liwc_subcat)"
   ]
  },
  {
   "cell_type": "code",
   "execution_count": 8,
   "metadata": {},
   "outputs": [],
   "source": [
    "# hypothetical_indicators = [\"would\", \"could\", \"can\", \"might\", \"may\", \"if\", \"then\", \"unless\"]\n",
    "\n",
    "\n",
    "def make_regex(lex_list):\n",
    "    separator = '\\\\b|\\\\b'\n",
    "    reg_string = separator.join(lex_list)\n",
    "    reg_string_whole_word = \"\\\\b\" + reg_string + \"\\\\b\"\n",
    "    return reg_string_whole_word\n",
    "\n",
    "def count_lexicon_terms(sentence, lexicon):\n",
    "    reg_str = make_regex(lexicon)\n",
    "    num_matches = len(list(re.finditer(reg_str, sentence)))\n",
    "    return num_matches\n",
    "    "
   ]
  },
  {
   "cell_type": "markdown",
   "metadata": {},
   "source": [
    "## Counting Relevant Terms in the Dataset\n",
    "We count the number of terms in each utterance that also exist in the above list of category terms. This term count is added as a separate column (in this case called `liwc_test`)."
   ]
  },
  {
   "cell_type": "code",
   "execution_count": 9,
   "metadata": {},
   "outputs": [],
   "source": [
    "def add_liwc_measure(df, lex_category_name, lex_category_list, normalize_measure=False):\n",
    "    if lex_category_name in df.columns :\n",
    "        print(\"Column already exists for\", lex_category_name, \". Repopulating...\")\n",
    "        df = df.drop(lex_category_name, axis=1)\n",
    "    column_index = len(df.columns)\n",
    "    liwc_measures = []\n",
    "    for ind, utterance in enumerate(list(df['utterance'])) :\n",
    "        if utterance != '' and utterance != ' ' :\n",
    "            liwc_measure = count_lexicon_terms(utterance, lex_category_list)\n",
    "            liwc_measures.append(liwc_measure)\n",
    "    df.insert(column_index, lex_category_name, liwc_measures, True)\n",
    "    return df\n"
   ]
  },
  {
   "cell_type": "code",
   "execution_count": 10,
   "metadata": {},
   "outputs": [
    {
     "data": {
      "text/html": [
       "<div>\n",
       "<style scoped>\n",
       "    .dataframe tbody tr th:only-of-type {\n",
       "        vertical-align: middle;\n",
       "    }\n",
       "\n",
       "    .dataframe tbody tr th {\n",
       "        vertical-align: top;\n",
       "    }\n",
       "\n",
       "    .dataframe thead th {\n",
       "        text-align: right;\n",
       "    }\n",
       "</style>\n",
       "<table border=\"1\" class=\"dataframe\">\n",
       "  <thead>\n",
       "    <tr style=\"text-align: right;\">\n",
       "      <th></th>\n",
       "      <th>dataset</th>\n",
       "      <th>session</th>\n",
       "      <th>speaker</th>\n",
       "      <th>utterance</th>\n",
       "      <th>approx-vague</th>\n",
       "    </tr>\n",
       "  </thead>\n",
       "  <tbody>\n",
       "    <tr>\n",
       "      <th>0</th>\n",
       "      <td>dtrs-10</td>\n",
       "      <td>grad-2-concept-review-sharon</td>\n",
       "      <td>Steve</td>\n",
       "      <td>Next.  Okay whose turn?  Wilson?</td>\n",
       "      <td>0</td>\n",
       "    </tr>\n",
       "    <tr>\n",
       "      <th>1</th>\n",
       "      <td>dtrs-10</td>\n",
       "      <td>grad-2-concept-review-sharon</td>\n",
       "      <td>Wilson</td>\n",
       "      <td>Huh?</td>\n",
       "      <td>0</td>\n",
       "    </tr>\n",
       "    <tr>\n",
       "      <th>2</th>\n",
       "      <td>dtrs-10</td>\n",
       "      <td>grad-2-concept-review-sharon</td>\n",
       "      <td>Steve</td>\n",
       "      <td>You’re talking, it’s your turn.</td>\n",
       "      <td>0</td>\n",
       "    </tr>\n",
       "    <tr>\n",
       "      <th>3</th>\n",
       "      <td>dtrs-10</td>\n",
       "      <td>grad-2-concept-review-sharon</td>\n",
       "      <td>Wilson</td>\n",
       "      <td>It’s my turn?</td>\n",
       "      <td>0</td>\n",
       "    </tr>\n",
       "    <tr>\n",
       "      <th>4</th>\n",
       "      <td>dtrs-10</td>\n",
       "      <td>grad-2-concept-review-sharon</td>\n",
       "      <td>Steve</td>\n",
       "      <td>You critique it.  What’s working.  Explain the...</td>\n",
       "      <td>0</td>\n",
       "    </tr>\n",
       "    <tr>\n",
       "      <th>5</th>\n",
       "      <td>dtrs-10</td>\n",
       "      <td>grad-2-concept-review-sharon</td>\n",
       "      <td>Wilson</td>\n",
       "      <td>Let me take a look.  Uh.  So it is uh a coat h...</td>\n",
       "      <td>1</td>\n",
       "    </tr>\n",
       "    <tr>\n",
       "      <th>6</th>\n",
       "      <td>dtrs-10</td>\n",
       "      <td>grad-2-concept-review-sharon</td>\n",
       "      <td>Steve</td>\n",
       "      <td>OK.  It makes sense.  Okay, what is good about...</td>\n",
       "      <td>0</td>\n",
       "    </tr>\n",
       "    <tr>\n",
       "      <th>7</th>\n",
       "      <td>dtrs-10</td>\n",
       "      <td>grad-2-concept-review-sharon</td>\n",
       "      <td>Wilson</td>\n",
       "      <td>I think the storyboard it make very good sense.</td>\n",
       "      <td>0</td>\n",
       "    </tr>\n",
       "    <tr>\n",
       "      <th>8</th>\n",
       "      <td>dtrs-10</td>\n",
       "      <td>grad-2-concept-review-sharon</td>\n",
       "      <td>Steve</td>\n",
       "      <td>Okay.</td>\n",
       "      <td>0</td>\n",
       "    </tr>\n",
       "    <tr>\n",
       "      <th>9</th>\n",
       "      <td>dtrs-10</td>\n",
       "      <td>grad-2-concept-review-sharon</td>\n",
       "      <td>Wilson</td>\n",
       "      <td>Yes.</td>\n",
       "      <td>0</td>\n",
       "    </tr>\n",
       "  </tbody>\n",
       "</table>\n",
       "</div>"
      ],
      "text/plain": [
       "   dataset                       session speaker  \\\n",
       "0  dtrs-10  grad-2-concept-review-sharon   Steve   \n",
       "1  dtrs-10  grad-2-concept-review-sharon  Wilson   \n",
       "2  dtrs-10  grad-2-concept-review-sharon   Steve   \n",
       "3  dtrs-10  grad-2-concept-review-sharon  Wilson   \n",
       "4  dtrs-10  grad-2-concept-review-sharon   Steve   \n",
       "5  dtrs-10  grad-2-concept-review-sharon  Wilson   \n",
       "6  dtrs-10  grad-2-concept-review-sharon   Steve   \n",
       "7  dtrs-10  grad-2-concept-review-sharon  Wilson   \n",
       "8  dtrs-10  grad-2-concept-review-sharon   Steve   \n",
       "9  dtrs-10  grad-2-concept-review-sharon  Wilson   \n",
       "\n",
       "                                           utterance  approx-vague  \n",
       "0                   Next.  Okay whose turn?  Wilson?             0  \n",
       "1                                               Huh?             0  \n",
       "2                    You’re talking, it’s your turn.             0  \n",
       "3                                      It’s my turn?             0  \n",
       "4  You critique it.  What’s working.  Explain the...             0  \n",
       "5  Let me take a look.  Uh.  So it is uh a coat h...             1  \n",
       "6  OK.  It makes sense.  Okay, what is good about...             0  \n",
       "7    I think the storyboard it make very good sense.             0  \n",
       "8                                              Okay.             0  \n",
       "9                                               Yes.             0  "
      ]
     },
     "execution_count": 10,
     "metadata": {},
     "output_type": "execute_result"
    }
   ],
   "source": [
    "df = add_liwc_measure(df, liwc_subcat_name, liwc_subcat)\n",
    "df[0:10]"
   ]
  },
  {
   "cell_type": "code",
   "execution_count": 11,
   "metadata": {},
   "outputs": [],
   "source": [
    "def round_to_multiples(x, multiples_of=5):\n",
    "    base = multiples_of\n",
    "    if base == 0 :\n",
    "        return base\n",
    "    else :\n",
    "        return base * round(x/base)\n",
    "    \n",
    "def round2(x):\n",
    "    y = round(x, 2)\n",
    "    return y\n",
    "\n",
    "def plot_measure(df, dataset, session, measure):\n",
    "    df0=df[df['dataset']==dataset]\n",
    "    if session != '' :\n",
    "        df1=df0[df0['session']==session]\n",
    "    else :\n",
    "        df1 = df0\n",
    "    fig = plt.figure(figsize=[10,2], dpi=300)\n",
    "    col = sns.color_palette(\"Set2\")\n",
    "    sns.set_style('ticks', {'axes.linewidth': 0.5, 'axes.edgecolor':'grey', 'axes.spinecolor' : 'grey'})\n",
    "    sns.set_context('paper', font_scale = 1)\n",
    "    ax = sns.barplot(x=df1.index, y=measure, data=df1, hue='speaker', palette ='Set2', linewidth=0)\n",
    "    data_len = df1.shape[0]\n",
    "    rounding_factor = int(data_len/50)\n",
    "    xlim = df1.shape[0] + 1\n",
    "    if rounding_factor > 0 :\n",
    "        xlist = list(np.arange(0, xlim, round_to_multiples(xlim/20, multiples_of=rounding_factor)))\n",
    "    else :\n",
    "        xlist = list(np.arange(0, xlim))\n",
    "    ax.set_xticks(xlist)\n",
    "    ax.set_xticklabels(ax.get_xticks(), fontsize=7)\n",
    "    ax.set_yticklabels(map(round2, ax.get_yticks()), fontsize=7)\n",
    "    ax.set_ylabel(measure, fontsize=9)\n",
    "    plt.title(\"# words vs. # utterances: \" + dataset +' | '+ session +' | '+ measure, fontsize=9)\n",
    "    speakers = len(set(list(df1['speaker'])))\n",
    "    legend_columns = round(speakers/4) + 1\n",
    "    plt.legend(loc='best', ncol=legend_columns, borderaxespad=0.15)\n",
    "    plt.savefig('./plots/'+ dataset +'-'+ session +'-'+ measure +'.pdf', bbox_inches='tight')"
   ]
  },
  {
   "cell_type": "code",
   "execution_count": 12,
   "metadata": {},
   "outputs": [],
   "source": [
    "def match_lexicon_terms(sentence, lexicon):\n",
    "    reg_str = make_regex(lexicon)\n",
    "    reg_matches = re.findall(reg_str, sentence.lower())\n",
    "    reg_split = re.split(reg_str, sentence.lower())\n",
    "    ind = 0\n",
    "    matched_print = \"\"\n",
    "    for split_string in reg_split:\n",
    "        if ind == len(reg_matches) :\n",
    "            str_to_concat = split_string\n",
    "        else :\n",
    "            str_to_concat = split_string + '**' + reg_matches[ind] + '**'\n",
    "            ind += 1\n",
    "        matched_print += str_to_concat\n",
    "    return matched_print\n",
    "    \n",
    "def print_lines(df, dataset, session, lexicon, start, num_lines=10):\n",
    "    df1 = df[df['dataset'] == dataset]\n",
    "    df2 = df1[df1['session'] == session]\n",
    "    speakers_list = list(df2['speaker'])\n",
    "    utt = list(df2['utterance'])\n",
    "    end = start + num_lines\n",
    "    for ind, line in enumerate(utt[start:end]) :\n",
    "        index = ind + start\n",
    "        line_matched = match_lexicon_terms(line, lexicon)\n",
    "        print(str(index)+' : ', end='')\n",
    "        print(speakers_list[index])\n",
    "        printmd(line_matched)\n",
    "        print('----------')\n",
    "        \n",
    "def concordance_old(text, word, width=80, occurrences=25):\n",
    "    margin = int((width - len(word))/2)\n",
    "    start = 0\n",
    "    counter = 0\n",
    "    while start < len(text) or counter == occurrences:\n",
    "        ind = text.find(word, start, -1)\n",
    "        if ind < 0 :\n",
    "            break\n",
    "        if ind < margin :\n",
    "            spaces_left = \" \" * (margin - ind)\n",
    "            margin_left = ind\n",
    "            string_left = spaces_left + text[start:margin_left]\n",
    "        else :\n",
    "            margin_left = start + margin\n",
    "            string_left = text[start:margin_left]\n",
    "            \n",
    "        if ind+len(word)+margin > len(text) :\n",
    "            spaces_right = \" \" * (ind+len(word)+margin - len(text))\n",
    "            margin_right = len(text)\n",
    "            string_right = text[ind+len(word):margin_right] + spaces_right\n",
    "        else :\n",
    "            margin_right = ind + len(word) + margin\n",
    "            string_right = text[ind+len(word):margin_right]\n",
    "        print(string_left + \"  \" + word + \"  \" + string_right)\n",
    "        start += ind + len(word)\n",
    "        counter += 1\n",
    "        \n",
    "def concordance(text, word, width=80, occurrences=10,nospace=False):\n",
    "    margin = int((width - len(word))/2)\n",
    "    start = 0\n",
    "    counter = 0\n",
    "    while start < len(text) or counter == occurrences:\n",
    "        ind = text.find(word, start, -1)\n",
    "        if ind < 0 :\n",
    "            break\n",
    "        \n",
    "        if nospace : \n",
    "            \n",
    "            if ind - margin > 0 :\n",
    "                print(text[ind-margin:ind+len(word)+margin], \":\", str(ind))\n",
    "            else :\n",
    "                spaces = ' ' * (margin - ind)\n",
    "                print(spaces + text[0:ind+len(word)+margin], \":\", str(ind))\n",
    "            \n",
    "        else :\n",
    "            \n",
    "            if ind - margin > 0 :\n",
    "                left_text = text[ind-margin:ind]\n",
    "                mid_text = text[ind:ind+len(word)]\n",
    "                right_text = text[ind+len(word):ind+len(word)+margin]\n",
    "            else :\n",
    "                left_text = text[0:ind]\n",
    "                mid_text = text[ind:ind+len(word)]\n",
    "                right_text = text[ind+len(word):ind+len(word)+margin]\n",
    "                \n",
    "            print(left_text + \"  \" + mid_text + \"  \" + right_text, \":\", str(ind))\n",
    "            \n",
    "        start += ind + len(word)\n",
    "        counter += 1\n",
    "        \n",
    "\n",
    "def print_concordances(df, dataset, session, filter_keywords, match_limit=10, nospace=False):\n",
    "    df1 = df[df['dataset'] == dataset]\n",
    "    df2 = df1[df1['session'] == session]\n",
    "    speakers_list = list(df2['speaker'])\n",
    "    utt = list(df2['utterance'])\n",
    "    utt_str = ' '.join(utt)\n",
    "    if len(filter_keywords) > 0 :\n",
    "        for term in filter_keywords :\n",
    "            concordance(utt_str, term, width=80, occurrences=match_limit, nospace=nospace)\n",
    "            print(\"-\" * 80)\n",
    "    \n",
    "  "
   ]
  },
  {
   "cell_type": "markdown",
   "metadata": {},
   "source": [
    "## Dataset Information as Reference for Plotting\n",
    "Down below you will see a table of all datasets and sessions. You can use them as inputs to plot the lexical categories for any one dataset and session."
   ]
  },
  {
   "cell_type": "code",
   "execution_count": 13,
   "metadata": {
    "scrolled": false
   },
   "outputs": [
    {
     "data": {
      "text/html": [
       "<div>\n",
       "<style scoped>\n",
       "    .dataframe tbody tr th:only-of-type {\n",
       "        vertical-align: middle;\n",
       "    }\n",
       "\n",
       "    .dataframe tbody tr th {\n",
       "        vertical-align: top;\n",
       "    }\n",
       "\n",
       "    .dataframe thead th {\n",
       "        text-align: right;\n",
       "    }\n",
       "</style>\n",
       "<table border=\"1\" class=\"dataframe\">\n",
       "  <thead>\n",
       "    <tr style=\"text-align: right;\">\n",
       "      <th></th>\n",
       "      <th>index</th>\n",
       "      <th>dataset</th>\n",
       "      <th>session</th>\n",
       "    </tr>\n",
       "  </thead>\n",
       "  <tbody>\n",
       "    <tr>\n",
       "      <th>52</th>\n",
       "      <td>16295</td>\n",
       "      <td>dtrs-02</td>\n",
       "      <td>think-aloud</td>\n",
       "    </tr>\n",
       "    <tr>\n",
       "      <th>31</th>\n",
       "      <td>9231</td>\n",
       "      <td>dtrs-02</td>\n",
       "      <td>three-person-discussion</td>\n",
       "    </tr>\n",
       "  </tbody>\n",
       "</table>\n",
       "</div>"
      ],
      "text/plain": [
       "    index  dataset                  session\n",
       "52  16295  dtrs-02              think-aloud\n",
       "31   9231  dtrs-02  three-person-discussion"
      ]
     },
     "execution_count": 13,
     "metadata": {},
     "output_type": "execute_result"
    }
   ],
   "source": [
    "df_data = df.drop(['speaker', 'utterance', liwc_subcat_name], axis=1)\n",
    "df_data = df_data.drop_duplicates(subset=None, keep='first', inplace=False)\n",
    "df_data = df_data.reset_index()\n",
    "df_data[df_data['dataset'] == 'dtrs-02'].sort_values('session')"
   ]
  },
  {
   "cell_type": "code",
   "execution_count": 14,
   "metadata": {},
   "outputs": [
    {
     "data": {
      "text/html": [
       "<div>\n",
       "<style scoped>\n",
       "    .dataframe tbody tr th:only-of-type {\n",
       "        vertical-align: middle;\n",
       "    }\n",
       "\n",
       "    .dataframe tbody tr th {\n",
       "        vertical-align: top;\n",
       "    }\n",
       "\n",
       "    .dataframe thead th {\n",
       "        text-align: right;\n",
       "    }\n",
       "</style>\n",
       "<table border=\"1\" class=\"dataframe\">\n",
       "  <thead>\n",
       "    <tr style=\"text-align: right;\">\n",
       "      <th></th>\n",
       "      <th>index</th>\n",
       "      <th>dataset</th>\n",
       "      <th>session</th>\n",
       "    </tr>\n",
       "  </thead>\n",
       "  <tbody>\n",
       "    <tr>\n",
       "      <th>10</th>\n",
       "      <td>1597</td>\n",
       "      <td>dtrs-07</td>\n",
       "      <td>crematorium-meeting-01</td>\n",
       "    </tr>\n",
       "    <tr>\n",
       "      <th>12</th>\n",
       "      <td>2619</td>\n",
       "      <td>dtrs-07</td>\n",
       "      <td>crematorium-meeting-02</td>\n",
       "    </tr>\n",
       "    <tr>\n",
       "      <th>55</th>\n",
       "      <td>17060</td>\n",
       "      <td>dtrs-07</td>\n",
       "      <td>engineers-meeting-01</td>\n",
       "    </tr>\n",
       "    <tr>\n",
       "      <th>61</th>\n",
       "      <td>19574</td>\n",
       "      <td>dtrs-07</td>\n",
       "      <td>engineers-meeting-02</td>\n",
       "    </tr>\n",
       "  </tbody>\n",
       "</table>\n",
       "</div>"
      ],
      "text/plain": [
       "    index  dataset                 session\n",
       "10   1597  dtrs-07  crematorium-meeting-01\n",
       "12   2619  dtrs-07  crematorium-meeting-02\n",
       "55  17060  dtrs-07    engineers-meeting-01\n",
       "61  19574  dtrs-07    engineers-meeting-02"
      ]
     },
     "execution_count": 14,
     "metadata": {},
     "output_type": "execute_result"
    }
   ],
   "source": [
    "df_data[df_data['dataset'] == 'dtrs-07'].sort_values('session')"
   ]
  },
  {
   "cell_type": "code",
   "execution_count": 15,
   "metadata": {},
   "outputs": [
    {
     "data": {
      "text/html": [
       "<div>\n",
       "<style scoped>\n",
       "    .dataframe tbody tr th:only-of-type {\n",
       "        vertical-align: middle;\n",
       "    }\n",
       "\n",
       "    .dataframe tbody tr th {\n",
       "        vertical-align: top;\n",
       "    }\n",
       "\n",
       "    .dataframe thead th {\n",
       "        text-align: right;\n",
       "    }\n",
       "</style>\n",
       "<table border=\"1\" class=\"dataframe\">\n",
       "  <thead>\n",
       "    <tr style=\"text-align: right;\">\n",
       "      <th></th>\n",
       "      <th>index</th>\n",
       "      <th>dataset</th>\n",
       "      <th>session</th>\n",
       "    </tr>\n",
       "  </thead>\n",
       "  <tbody>\n",
       "    <tr>\n",
       "      <th>7</th>\n",
       "      <td>740</td>\n",
       "      <td>dtrs-10</td>\n",
       "      <td>grad-1-search-review-amie-jin</td>\n",
       "    </tr>\n",
       "    <tr>\n",
       "      <th>6</th>\n",
       "      <td>461</td>\n",
       "      <td>dtrs-10</td>\n",
       "      <td>grad-1-search-review-marlen-david</td>\n",
       "    </tr>\n",
       "    <tr>\n",
       "      <th>14</th>\n",
       "      <td>3950</td>\n",
       "      <td>dtrs-10</td>\n",
       "      <td>grad-1-search-review-sharon-ellen</td>\n",
       "    </tr>\n",
       "    <tr>\n",
       "      <th>58</th>\n",
       "      <td>18589</td>\n",
       "      <td>dtrs-10</td>\n",
       "      <td>grad-2-concept-review-amie</td>\n",
       "    </tr>\n",
       "    <tr>\n",
       "      <th>41</th>\n",
       "      <td>13182</td>\n",
       "      <td>dtrs-10</td>\n",
       "      <td>grad-2-concept-review-ellen</td>\n",
       "    </tr>\n",
       "    <tr>\n",
       "      <th>48</th>\n",
       "      <td>16058</td>\n",
       "      <td>dtrs-10</td>\n",
       "      <td>grad-2-concept-review-marlen</td>\n",
       "    </tr>\n",
       "    <tr>\n",
       "      <th>0</th>\n",
       "      <td>0</td>\n",
       "      <td>dtrs-10</td>\n",
       "      <td>grad-2-concept-review-sharon</td>\n",
       "    </tr>\n",
       "    <tr>\n",
       "      <th>9</th>\n",
       "      <td>1142</td>\n",
       "      <td>dtrs-10</td>\n",
       "      <td>grad-2-concept-review-wilson</td>\n",
       "    </tr>\n",
       "    <tr>\n",
       "      <th>3</th>\n",
       "      <td>319</td>\n",
       "      <td>dtrs-10</td>\n",
       "      <td>grad-3-client-review-ellen</td>\n",
       "    </tr>\n",
       "    <tr>\n",
       "      <th>40</th>\n",
       "      <td>13098</td>\n",
       "      <td>dtrs-10</td>\n",
       "      <td>grad-3-client-review-jin</td>\n",
       "    </tr>\n",
       "    <tr>\n",
       "      <th>11</th>\n",
       "      <td>2548</td>\n",
       "      <td>dtrs-10</td>\n",
       "      <td>grad-3-client-review-marlen</td>\n",
       "    </tr>\n",
       "    <tr>\n",
       "      <th>56</th>\n",
       "      <td>18428</td>\n",
       "      <td>dtrs-10</td>\n",
       "      <td>grad-3-client-review-sharon</td>\n",
       "    </tr>\n",
       "    <tr>\n",
       "      <th>51</th>\n",
       "      <td>16179</td>\n",
       "      <td>dtrs-10</td>\n",
       "      <td>grad-3-client-review-wilson</td>\n",
       "    </tr>\n",
       "    <tr>\n",
       "      <th>64</th>\n",
       "      <td>20757</td>\n",
       "      <td>dtrs-10</td>\n",
       "      <td>grad-4-concept-reduction-jin</td>\n",
       "    </tr>\n",
       "    <tr>\n",
       "      <th>43</th>\n",
       "      <td>14561</td>\n",
       "      <td>dtrs-10</td>\n",
       "      <td>grad-4-concept-reduction-wilson</td>\n",
       "    </tr>\n",
       "    <tr>\n",
       "      <th>25</th>\n",
       "      <td>7969</td>\n",
       "      <td>dtrs-10</td>\n",
       "      <td>ugrad-1-first-review-liang</td>\n",
       "    </tr>\n",
       "    <tr>\n",
       "      <th>8</th>\n",
       "      <td>922</td>\n",
       "      <td>dtrs-10</td>\n",
       "      <td>ugrad-1-first-review-tommy</td>\n",
       "    </tr>\n",
       "    <tr>\n",
       "      <th>57</th>\n",
       "      <td>18477</td>\n",
       "      <td>dtrs-10</td>\n",
       "      <td>ugrad-2-second-review-alex</td>\n",
       "    </tr>\n",
       "    <tr>\n",
       "      <th>22</th>\n",
       "      <td>7073</td>\n",
       "      <td>dtrs-10</td>\n",
       "      <td>ugrad-2-second-review-anne</td>\n",
       "    </tr>\n",
       "    <tr>\n",
       "      <th>54</th>\n",
       "      <td>16988</td>\n",
       "      <td>dtrs-10</td>\n",
       "      <td>ugrad-2-second-review-sarah</td>\n",
       "    </tr>\n",
       "    <tr>\n",
       "      <th>5</th>\n",
       "      <td>438</td>\n",
       "      <td>dtrs-10</td>\n",
       "      <td>ugrad-3-client-review-adrianna</td>\n",
       "    </tr>\n",
       "    <tr>\n",
       "      <th>13</th>\n",
       "      <td>3917</td>\n",
       "      <td>dtrs-10</td>\n",
       "      <td>ugrad-3-client-review-alex</td>\n",
       "    </tr>\n",
       "    <tr>\n",
       "      <th>59</th>\n",
       "      <td>18687</td>\n",
       "      <td>dtrs-10</td>\n",
       "      <td>ugrad-3-client-review-anne</td>\n",
       "    </tr>\n",
       "    <tr>\n",
       "      <th>37</th>\n",
       "      <td>12881</td>\n",
       "      <td>dtrs-10</td>\n",
       "      <td>ugrad-3-client-review-emily</td>\n",
       "    </tr>\n",
       "    <tr>\n",
       "      <th>4</th>\n",
       "      <td>421</td>\n",
       "      <td>dtrs-10</td>\n",
       "      <td>ugrad-3-client-review-liang</td>\n",
       "    </tr>\n",
       "    <tr>\n",
       "      <th>19</th>\n",
       "      <td>5726</td>\n",
       "      <td>dtrs-10</td>\n",
       "      <td>ugrad-3-client-review-liang-tommy</td>\n",
       "    </tr>\n",
       "    <tr>\n",
       "      <th>63</th>\n",
       "      <td>20734</td>\n",
       "      <td>dtrs-10</td>\n",
       "      <td>ugrad-3-client-review-sarah</td>\n",
       "    </tr>\n",
       "    <tr>\n",
       "      <th>23</th>\n",
       "      <td>7259</td>\n",
       "      <td>dtrs-10</td>\n",
       "      <td>ugrad-3-client-review-tommy</td>\n",
       "    </tr>\n",
       "    <tr>\n",
       "      <th>16</th>\n",
       "      <td>5200</td>\n",
       "      <td>dtrs-10</td>\n",
       "      <td>ugrad-4-looklike-review-adrianna</td>\n",
       "    </tr>\n",
       "    <tr>\n",
       "      <th>17</th>\n",
       "      <td>5340</td>\n",
       "      <td>dtrs-10</td>\n",
       "      <td>ugrad-4-looklike-review-emily</td>\n",
       "    </tr>\n",
       "    <tr>\n",
       "      <th>1</th>\n",
       "      <td>45</td>\n",
       "      <td>dtrs-10</td>\n",
       "      <td>ugrad-4-looklike-review-sarah</td>\n",
       "    </tr>\n",
       "    <tr>\n",
       "      <th>38</th>\n",
       "      <td>12901</td>\n",
       "      <td>dtrs-10</td>\n",
       "      <td>ugrad-4-looklike-review-tommy</td>\n",
       "    </tr>\n",
       "    <tr>\n",
       "      <th>50</th>\n",
       "      <td>16149</td>\n",
       "      <td>dtrs-10</td>\n",
       "      <td>ugrad-5-final-review-adrianna</td>\n",
       "    </tr>\n",
       "    <tr>\n",
       "      <th>2</th>\n",
       "      <td>291</td>\n",
       "      <td>dtrs-10</td>\n",
       "      <td>ugrad-5-final-review-alex</td>\n",
       "    </tr>\n",
       "    <tr>\n",
       "      <th>44</th>\n",
       "      <td>14669</td>\n",
       "      <td>dtrs-10</td>\n",
       "      <td>ugrad-5-final-review-anne</td>\n",
       "    </tr>\n",
       "    <tr>\n",
       "      <th>33</th>\n",
       "      <td>11662</td>\n",
       "      <td>dtrs-10</td>\n",
       "      <td>ugrad-5-final-review-emily</td>\n",
       "    </tr>\n",
       "    <tr>\n",
       "      <th>49</th>\n",
       "      <td>16124</td>\n",
       "      <td>dtrs-10</td>\n",
       "      <td>ugrad-5-final-review-sarah</td>\n",
       "    </tr>\n",
       "    <tr>\n",
       "      <th>26</th>\n",
       "      <td>8245</td>\n",
       "      <td>dtrs-10</td>\n",
       "      <td>ugrad-5-final-review-tommy</td>\n",
       "    </tr>\n",
       "  </tbody>\n",
       "</table>\n",
       "</div>"
      ],
      "text/plain": [
       "    index  dataset                            session\n",
       "7     740  dtrs-10      grad-1-search-review-amie-jin\n",
       "6     461  dtrs-10  grad-1-search-review-marlen-david\n",
       "14   3950  dtrs-10  grad-1-search-review-sharon-ellen\n",
       "58  18589  dtrs-10         grad-2-concept-review-amie\n",
       "41  13182  dtrs-10        grad-2-concept-review-ellen\n",
       "48  16058  dtrs-10       grad-2-concept-review-marlen\n",
       "0       0  dtrs-10       grad-2-concept-review-sharon\n",
       "9    1142  dtrs-10       grad-2-concept-review-wilson\n",
       "3     319  dtrs-10         grad-3-client-review-ellen\n",
       "40  13098  dtrs-10           grad-3-client-review-jin\n",
       "11   2548  dtrs-10        grad-3-client-review-marlen\n",
       "56  18428  dtrs-10        grad-3-client-review-sharon\n",
       "51  16179  dtrs-10        grad-3-client-review-wilson\n",
       "64  20757  dtrs-10       grad-4-concept-reduction-jin\n",
       "43  14561  dtrs-10    grad-4-concept-reduction-wilson\n",
       "25   7969  dtrs-10         ugrad-1-first-review-liang\n",
       "8     922  dtrs-10         ugrad-1-first-review-tommy\n",
       "57  18477  dtrs-10         ugrad-2-second-review-alex\n",
       "22   7073  dtrs-10         ugrad-2-second-review-anne\n",
       "54  16988  dtrs-10        ugrad-2-second-review-sarah\n",
       "5     438  dtrs-10     ugrad-3-client-review-adrianna\n",
       "13   3917  dtrs-10         ugrad-3-client-review-alex\n",
       "59  18687  dtrs-10         ugrad-3-client-review-anne\n",
       "37  12881  dtrs-10        ugrad-3-client-review-emily\n",
       "4     421  dtrs-10        ugrad-3-client-review-liang\n",
       "19   5726  dtrs-10  ugrad-3-client-review-liang-tommy\n",
       "63  20734  dtrs-10        ugrad-3-client-review-sarah\n",
       "23   7259  dtrs-10        ugrad-3-client-review-tommy\n",
       "16   5200  dtrs-10   ugrad-4-looklike-review-adrianna\n",
       "17   5340  dtrs-10      ugrad-4-looklike-review-emily\n",
       "1      45  dtrs-10      ugrad-4-looklike-review-sarah\n",
       "38  12901  dtrs-10      ugrad-4-looklike-review-tommy\n",
       "50  16149  dtrs-10      ugrad-5-final-review-adrianna\n",
       "2     291  dtrs-10          ugrad-5-final-review-alex\n",
       "44  14669  dtrs-10          ugrad-5-final-review-anne\n",
       "33  11662  dtrs-10         ugrad-5-final-review-emily\n",
       "49  16124  dtrs-10         ugrad-5-final-review-sarah\n",
       "26   8245  dtrs-10         ugrad-5-final-review-tommy"
      ]
     },
     "execution_count": 15,
     "metadata": {},
     "output_type": "execute_result"
    }
   ],
   "source": [
    "df_data[df_data['dataset'] == 'dtrs-10'].sort_values('session')"
   ]
  },
  {
   "cell_type": "code",
   "execution_count": 16,
   "metadata": {},
   "outputs": [
    {
     "data": {
      "text/html": [
       "<div>\n",
       "<style scoped>\n",
       "    .dataframe tbody tr th:only-of-type {\n",
       "        vertical-align: middle;\n",
       "    }\n",
       "\n",
       "    .dataframe tbody tr th {\n",
       "        vertical-align: top;\n",
       "    }\n",
       "\n",
       "    .dataframe thead th {\n",
       "        text-align: right;\n",
       "    }\n",
       "</style>\n",
       "<table border=\"1\" class=\"dataframe\">\n",
       "  <thead>\n",
       "    <tr style=\"text-align: right;\">\n",
       "      <th></th>\n",
       "      <th>index</th>\n",
       "      <th>dataset</th>\n",
       "      <th>session</th>\n",
       "    </tr>\n",
       "  </thead>\n",
       "  <tbody>\n",
       "    <tr>\n",
       "      <th>39</th>\n",
       "      <td>12996</td>\n",
       "      <td>dtrs-11</td>\n",
       "      <td>01-background-interview</td>\n",
       "    </tr>\n",
       "    <tr>\n",
       "      <th>36</th>\n",
       "      <td>12730</td>\n",
       "      <td>dtrs-11</td>\n",
       "      <td>02-designing-cocreation-workshops</td>\n",
       "    </tr>\n",
       "    <tr>\n",
       "      <th>34</th>\n",
       "      <td>11701</td>\n",
       "      <td>dtrs-11</td>\n",
       "      <td>03-iterations-on-workshop-design</td>\n",
       "    </tr>\n",
       "    <tr>\n",
       "      <th>21</th>\n",
       "      <td>6202</td>\n",
       "      <td>dtrs-11</td>\n",
       "      <td>04-iterations-on-cocreation-workshops</td>\n",
       "    </tr>\n",
       "    <tr>\n",
       "      <th>15</th>\n",
       "      <td>4184</td>\n",
       "      <td>dtrs-11</td>\n",
       "      <td>05-designing-cocreation-workshops-day-2</td>\n",
       "    </tr>\n",
       "    <tr>\n",
       "      <th>30</th>\n",
       "      <td>9071</td>\n",
       "      <td>dtrs-11</td>\n",
       "      <td>07-designing-cocreation-workshops-debrief-day-1</td>\n",
       "    </tr>\n",
       "    <tr>\n",
       "      <th>45</th>\n",
       "      <td>14696</td>\n",
       "      <td>dtrs-11</td>\n",
       "      <td>08-sharing-insights-from-cocreation-workshops-...</td>\n",
       "    </tr>\n",
       "    <tr>\n",
       "      <th>35</th>\n",
       "      <td>12256</td>\n",
       "      <td>dtrs-11</td>\n",
       "      <td>09-clustering-insights-cc1</td>\n",
       "    </tr>\n",
       "    <tr>\n",
       "      <th>28</th>\n",
       "      <td>8421</td>\n",
       "      <td>dtrs-11</td>\n",
       "      <td>10-iterations-on-cc2-design</td>\n",
       "    </tr>\n",
       "    <tr>\n",
       "      <th>46</th>\n",
       "      <td>15036</td>\n",
       "      <td>dtrs-11</td>\n",
       "      <td>11-linking-insights-from-cc-to-project</td>\n",
       "    </tr>\n",
       "    <tr>\n",
       "      <th>62</th>\n",
       "      <td>20690</td>\n",
       "      <td>dtrs-11</td>\n",
       "      <td>12-briefing-with-stakeholders</td>\n",
       "    </tr>\n",
       "    <tr>\n",
       "      <th>60</th>\n",
       "      <td>18704</td>\n",
       "      <td>dtrs-11</td>\n",
       "      <td>14-debriefing-after-cc2</td>\n",
       "    </tr>\n",
       "    <tr>\n",
       "      <th>20</th>\n",
       "      <td>5827</td>\n",
       "      <td>dtrs-11</td>\n",
       "      <td>15-sharing-insights-from-cocreation-workshops-1</td>\n",
       "    </tr>\n",
       "    <tr>\n",
       "      <th>53</th>\n",
       "      <td>16626</td>\n",
       "      <td>dtrs-11</td>\n",
       "      <td>16-sharing-insights-from-cocreation-workshops-2</td>\n",
       "    </tr>\n",
       "    <tr>\n",
       "      <th>18</th>\n",
       "      <td>5458</td>\n",
       "      <td>dtrs-11</td>\n",
       "      <td>17-sharing-insights-from-cocreation-workshops-3</td>\n",
       "    </tr>\n",
       "    <tr>\n",
       "      <th>47</th>\n",
       "      <td>15534</td>\n",
       "      <td>dtrs-11</td>\n",
       "      <td>18-clustering-insights-from-cc1-and-cc2</td>\n",
       "    </tr>\n",
       "    <tr>\n",
       "      <th>32</th>\n",
       "      <td>11486</td>\n",
       "      <td>dtrs-11</td>\n",
       "      <td>19-recap-with-consultants</td>\n",
       "    </tr>\n",
       "    <tr>\n",
       "      <th>42</th>\n",
       "      <td>14424</td>\n",
       "      <td>dtrs-11</td>\n",
       "      <td>20-recap-with-stakeholders</td>\n",
       "    </tr>\n",
       "    <tr>\n",
       "      <th>24</th>\n",
       "      <td>7279</td>\n",
       "      <td>dtrs-11</td>\n",
       "      <td>21-brainstorm-on-concepts-and-products-1</td>\n",
       "    </tr>\n",
       "    <tr>\n",
       "      <th>27</th>\n",
       "      <td>8277</td>\n",
       "      <td>dtrs-11</td>\n",
       "      <td>21-brainstorm-on-concepts-and-products-2</td>\n",
       "    </tr>\n",
       "    <tr>\n",
       "      <th>29</th>\n",
       "      <td>8861</td>\n",
       "      <td>dtrs-11</td>\n",
       "      <td>22-follow-up-interview</td>\n",
       "    </tr>\n",
       "  </tbody>\n",
       "</table>\n",
       "</div>"
      ],
      "text/plain": [
       "    index  dataset                                            session\n",
       "39  12996  dtrs-11                            01-background-interview\n",
       "36  12730  dtrs-11                  02-designing-cocreation-workshops\n",
       "34  11701  dtrs-11                   03-iterations-on-workshop-design\n",
       "21   6202  dtrs-11              04-iterations-on-cocreation-workshops\n",
       "15   4184  dtrs-11            05-designing-cocreation-workshops-day-2\n",
       "30   9071  dtrs-11    07-designing-cocreation-workshops-debrief-day-1\n",
       "45  14696  dtrs-11  08-sharing-insights-from-cocreation-workshops-...\n",
       "35  12256  dtrs-11                         09-clustering-insights-cc1\n",
       "28   8421  dtrs-11                        10-iterations-on-cc2-design\n",
       "46  15036  dtrs-11             11-linking-insights-from-cc-to-project\n",
       "62  20690  dtrs-11                      12-briefing-with-stakeholders\n",
       "60  18704  dtrs-11                            14-debriefing-after-cc2\n",
       "20   5827  dtrs-11    15-sharing-insights-from-cocreation-workshops-1\n",
       "53  16626  dtrs-11    16-sharing-insights-from-cocreation-workshops-2\n",
       "18   5458  dtrs-11    17-sharing-insights-from-cocreation-workshops-3\n",
       "47  15534  dtrs-11            18-clustering-insights-from-cc1-and-cc2\n",
       "32  11486  dtrs-11                          19-recap-with-consultants\n",
       "42  14424  dtrs-11                         20-recap-with-stakeholders\n",
       "24   7279  dtrs-11           21-brainstorm-on-concepts-and-products-1\n",
       "27   8277  dtrs-11           21-brainstorm-on-concepts-and-products-2\n",
       "29   8861  dtrs-11                             22-follow-up-interview"
      ]
     },
     "execution_count": 16,
     "metadata": {},
     "output_type": "execute_result"
    }
   ],
   "source": [
    "df_data[df_data['dataset'] == 'dtrs-11'].sort_values('session')"
   ]
  },
  {
   "cell_type": "markdown",
   "metadata": {},
   "source": [
    "## Plot Occurrences\n",
    "Plot Lexical categories for any dataset and session."
   ]
  },
  {
   "cell_type": "markdown",
   "metadata": {},
   "source": [
    "## Examine Specifics\n",
    "Examine utterances in detail and show overlaps with terms in the lexical category."
   ]
  },
  {
   "cell_type": "code",
   "execution_count": 35,
   "metadata": {
    "scrolled": false
   },
   "outputs": [
    {
     "name": "stdout",
     "output_type": "stream",
     "text": [
      "0 : Chris\n"
     ]
    },
    {
     "data": {
      "text/markdown": [
       "yeah."
      ],
      "text/plain": [
       "<IPython.core.display.Markdown object>"
      ]
     },
     "metadata": {},
     "output_type": "display_data"
    },
    {
     "name": "stdout",
     "output_type": "stream",
     "text": [
      "----------\n",
      "1 : Chris\n"
     ]
    },
    {
     "data": {
      "text/markdown": [
       "so can you – sorry.  can you go back to number one, please?"
      ],
      "text/plain": [
       "<IPython.core.display.Markdown object>"
      ]
     },
     "metadata": {},
     "output_type": "display_data"
    },
    {
     "name": "stdout",
     "output_type": "stream",
     "text": [
      "----------\n",
      "2 : Chris\n"
     ]
    },
    {
     "data": {
      "text/markdown": [
       "yep.  so, i, i think there’s something very interesting here in – again this size worries me a little bit, but what, what we’ve heard a lot from consumers is that one of the – one of the ways that people tell that their clothes are clean or that their machine is working is the smell."
      ],
      "text/plain": [
       "<IPython.core.display.Markdown object>"
      ]
     },
     "metadata": {},
     "output_type": "display_data"
    },
    {
     "name": "stdout",
     "output_type": "stream",
     "text": [
      "----------\n",
      "3 : Chris\n"
     ]
    },
    {
     "data": {
      "text/markdown": [
       "so, but, ya’ know, with us, it’s like you don’t want yoru gym clothes to smell like my wife’s dress, ya’ know, cocktail dress.  so is this a thing that you **kind of** – i, i don’t know.  i’m just **kind of** thinking.  is it smaller where you put in a couple of different, ya’ know, your more formal wear and it **kind of** fragrance, ya’ know, puts fragrance in there or is it something where you put shoes in – [0:11:00] -- there so they don’t smell?  ya’ know, i can see it **kind of** half the size that you have drawn here."
      ],
      "text/plain": [
       "<IPython.core.display.Markdown object>"
      ]
     },
     "metadata": {},
     "output_type": "display_data"
    },
    {
     "name": "stdout",
     "output_type": "stream",
     "text": [
      "----------\n",
      "4 : Chris\n"
     ]
    },
    {
     "data": {
      "text/markdown": [
       "uh, but i think there’s something interesting here where the, ya’ know, the – with the air flow."
      ],
      "text/plain": [
       "<IPython.core.display.Markdown object>"
      ]
     },
     "metadata": {},
     "output_type": "display_data"
    },
    {
     "name": "stdout",
     "output_type": "stream",
     "text": [
      "----------\n",
      "5 : Chris\n"
     ]
    },
    {
     "data": {
      "text/markdown": [
       "and, ya’ know, maybe you add the fragrance thing in and **kinda**’ take it from there."
      ],
      "text/plain": [
       "<IPython.core.display.Markdown object>"
      ]
     },
     "metadata": {},
     "output_type": "display_data"
    },
    {
     "name": "stdout",
     "output_type": "stream",
     "text": [
      "----------\n",
      "6 : Chris\n"
     ]
    },
    {
     "data": {
      "text/markdown": [
       "oh good."
      ],
      "text/plain": [
       "<IPython.core.display.Markdown object>"
      ]
     },
     "metadata": {},
     "output_type": "display_data"
    },
    {
     "name": "stdout",
     "output_type": "stream",
     "text": [
      "----------\n",
      "7 : Chris\n"
     ]
    },
    {
     "data": {
      "text/markdown": [
       "you’re one step ahead of me, but maybe it’s, ya ‘know, maybe it’s not an entire, ya ‘know, closet."
      ],
      "text/plain": [
       "<IPython.core.display.Markdown object>"
      ]
     },
     "metadata": {},
     "output_type": "display_data"
    },
    {
     "name": "stdout",
     "output_type": "stream",
     "text": [
      "----------\n",
      "8 : Chris\n"
     ]
    },
    {
     "data": {
      "text/markdown": [
       "maybe it’s more of a smaller **kind of** a –"
      ],
      "text/plain": [
       "<IPython.core.display.Markdown object>"
      ]
     },
     "metadata": {},
     "output_type": "display_data"
    },
    {
     "name": "stdout",
     "output_type": "stream",
     "text": [
      "----------\n",
      "9 : Chris\n"
     ]
    },
    {
     "data": {
      "text/markdown": [
       "-- product."
      ],
      "text/plain": [
       "<IPython.core.display.Markdown object>"
      ]
     },
     "metadata": {},
     "output_type": "display_data"
    },
    {
     "name": "stdout",
     "output_type": "stream",
     "text": [
      "----------\n",
      "10 : Chris\n"
     ]
    },
    {
     "data": {
      "text/markdown": [
       "and it could have a cycle, right?  like if you’re going out at night, ya’ know, you can put, put it in there for five or ten minutes and it **kind of** can infuse a scent or, ya’ know, say you wear a shirt once and it’s not dirty, but it doesn’t smell great –"
      ],
      "text/plain": [
       "<IPython.core.display.Markdown object>"
      ]
     },
     "metadata": {},
     "output_type": "display_data"
    },
    {
     "name": "stdout",
     "output_type": "stream",
     "text": [
      "----------\n",
      "11 : Chris\n"
     ]
    },
    {
     "data": {
      "text/markdown": [
       "-- put it in there and it **kinda**’ gets rid of that, that smell.  i think there’s something – there’s something there."
      ],
      "text/plain": [
       "<IPython.core.display.Markdown object>"
      ]
     },
     "metadata": {},
     "output_type": "display_data"
    },
    {
     "name": "stdout",
     "output_type": "stream",
     "text": [
      "----------\n",
      "12 : Chris\n"
     ]
    },
    {
     "data": {
      "text/markdown": [
       "so maybe it’ll get people to wear clothes more than once, um, ya’ know, saving water and energy and everything else."
      ],
      "text/plain": [
       "<IPython.core.display.Markdown object>"
      ]
     },
     "metadata": {},
     "output_type": "display_data"
    },
    {
     "name": "stdout",
     "output_type": "stream",
     "text": [
      "----------\n",
      "13 : Chris\n"
     ]
    },
    {
     "data": {
      "text/markdown": [
       "but i, i definitely think there’s one there."
      ],
      "text/plain": [
       "<IPython.core.display.Markdown object>"
      ]
     },
     "metadata": {},
     "output_type": "display_data"
    },
    {
     "name": "stdout",
     "output_type": "stream",
     "text": [
      "----------\n",
      "14 : Chris\n"
     ]
    },
    {
     "data": {
      "text/markdown": [
       "i, i think this is pretty cool.  i love the idea of the rocker.  one of the things that paul and i were talking about is it does seem a little similar to number 34, the, uh, the small red truck that, that kids could ride around and it’s a laundry basket.  um, i don’t know.  i love this idea, but i don’t know if we wanna do both concepts as part of the, the final presentation to product management."
      ],
      "text/plain": [
       "<IPython.core.display.Markdown object>"
      ]
     },
     "metadata": {},
     "output_type": "display_data"
    },
    {
     "name": "stdout",
     "output_type": "stream",
     "text": [
      "----------\n",
      "15 : Chris\n"
     ]
    },
    {
     "data": {
      "text/markdown": [
       "yeah, good stuff, good thinking."
      ],
      "text/plain": [
       "<IPython.core.display.Markdown object>"
      ]
     },
     "metadata": {},
     "output_type": "display_data"
    },
    {
     "name": "stdout",
     "output_type": "stream",
     "text": [
      "----------\n"
     ]
    }
   ],
   "source": [
    "print_lines(df[df.speaker == 'Chris'], 'dtrs-10', 'grad-3-client-review-marlen', liwc_subcat, 0, num_lines=20)"
   ]
  },
  {
   "cell_type": "code",
   "execution_count": 18,
   "metadata": {
    "scrolled": true
   },
   "outputs": [
    {
     "name": "stdout",
     "output_type": "stream",
     "text": [
      "story of techniques. Okay. How it's kind of thinned down in terms of products.  : 3631\n",
      "products. We had a lot of things to kind of - different items to do one thing d : 3700\n",
      "it and on the video, um, when she's kind of filming going around and the guys,  : 7427\n",
      " collects it from the floor. That's kind of interesting. Is that for clean clot : 17224\n",
      "--------------------------------------------------------------------------------\n",
      "--------------------------------------------------------------------------------\n",
      "--------------------------------------------------------------------------------\n",
      "--------------------------------------------------------------------------------\n",
      "--------------------------------------------------------------------------------\n"
     ]
    }
   ],
   "source": [
    "print_concordances(df, 'dtrs-10', 'grad-1-search-review-marlen-david', liwc_subcat, match_limit=20, nospace=True)"
   ]
  },
  {
   "cell_type": "code",
   "execution_count": 19,
   "metadata": {},
   "outputs": [
    {
     "name": "stdout",
     "output_type": "stream",
     "text": [
      "story of techniques. Okay. How it's   kind of   thinned down in terms of products.  : 3631\n",
      "products. We had a lot of things to   kind of   - different items to do one thing d : 3700\n",
      "it and on the video, um, when she's   kind of   filming going around and the guys,  : 7427\n",
      " collects it from the floor. That's   kind of   interesting. Is that for clean clot : 17224\n",
      "--------------------------------------------------------------------------------\n",
      "--------------------------------------------------------------------------------\n",
      "--------------------------------------------------------------------------------\n",
      "--------------------------------------------------------------------------------\n",
      "--------------------------------------------------------------------------------\n"
     ]
    }
   ],
   "source": [
    "print_concordances(df, 'dtrs-10', 'grad-1-search-review-marlen-david', liwc_subcat, match_limit=20)"
   ]
  },
  {
   "cell_type": "code",
   "execution_count": 31,
   "metadata": {},
   "outputs": [
    {
     "name": "stderr",
     "output_type": "stream",
     "text": [
      "<ipython-input-11-d5e0bb820a79>:32: UserWarning: FixedFormatter should only be used together with FixedLocator\n",
      "  ax.set_yticklabels(map(round2, ax.get_yticks()), fontsize=7)\n"
     ]
    },
    {
     "data": {
      "image/png": "[encoded data removed]",
      "text/plain": [
       "<Figure size 3000x600 with 1 Axes>"
      ]
     },
     "metadata": {},
     "output_type": "display_data"
    }
   ],
   "source": [
    "plot_measure(df, 'dtrs-10', 'grad-3-client-review-marlen', liwc_subcat_name)"
   ]
  },
  {
   "cell_type": "code",
   "execution_count": 32,
   "metadata": {},
   "outputs": [
    {
     "name": "stderr",
     "output_type": "stream",
     "text": [
      "<ipython-input-11-d5e0bb820a79>:32: UserWarning: FixedFormatter should only be used together with FixedLocator\n",
      "  ax.set_yticklabels(map(round2, ax.get_yticks()), fontsize=7)\n"
     ]
    },
    {
     "data": {
      "image/png": "[encoded data removed]",
      "text/plain": [
       "<Figure size 3000x600 with 1 Axes>"
      ]
     },
     "metadata": {},
     "output_type": "display_data"
    }
   ],
   "source": [
    "plot_measure(df[df.speaker == 'Marlen'], 'dtrs-10', 'grad-3-client-review-marlen', liwc_subcat_name)"
   ]
  },
  {
   "cell_type": "code",
   "execution_count": 33,
   "metadata": {},
   "outputs": [
    {
     "name": "stderr",
     "output_type": "stream",
     "text": [
      "<ipython-input-11-d5e0bb820a79>:32: UserWarning: FixedFormatter should only be used together with FixedLocator\n",
      "  ax.set_yticklabels(map(round2, ax.get_yticks()), fontsize=7)\n"
     ]
    },
    {
     "data": {
      "image/png": "[encoded data removed]",
      "text/plain": [
       "<Figure size 3000x600 with 1 Axes>"
      ]
     },
     "metadata": {},
     "output_type": "display_data"
    }
   ],
   "source": [
    "plot_measure(df[df.speaker == 'Chris'], 'dtrs-10', 'grad-3-client-review-marlen', liwc_subcat_name)"
   ]
  },
  {
   "cell_type": "code",
   "execution_count": null,
   "metadata": {},
   "outputs": [],
   "source": [
    "marlen_client_rev_df = df[(df.dataset == 'dtrs-10') & (df.session == 'grad-3-client-review-marlen')]\n",
    "marlen_client_rev_df[0:10]"
   ]
  },
  {
   "cell_type": "code",
   "execution_count": null,
   "metadata": {},
   "outputs": [],
   "source": [
    "plot_measure(df, 'dtrs-10', 'grad-3-client-review-marlen', liwc_subcat_name)"
   ]
  },
  {
   "cell_type": "code",
   "execution_count": null,
   "metadata": {},
   "outputs": [],
   "source": [
    "print_lines(df, 'dtrs-10', 'grad-3-client-review-marlen', liwc_subcat, 2, num_lines=1)\n",
    "print_lines(df, 'dtrs-10', 'grad-3-client-review-marlen', liwc_subcat, 4, num_lines=1)\n",
    "print_lines(df, 'dtrs-10', 'grad-3-client-review-marlen', liwc_subcat, 6, num_lines=1)\n",
    "print_lines(df, 'dtrs-10', 'grad-3-client-review-marlen', liwc_subcat, 10, num_lines=1)"
   ]
  },
  {
   "cell_type": "code",
   "execution_count": null,
   "metadata": {},
   "outputs": [],
   "source": [
    "plot_measure(df, 'dtrs-10', 'grad-2-concept-review-marlen', liwc_subcat_name)"
   ]
  },
  {
   "cell_type": "code",
   "execution_count": null,
   "metadata": {},
   "outputs": [],
   "source": [
    "print_lines(df, 'dtrs-10', 'grad-2-concept-review-marlen', liwc_subcat, 0, num_lines=1)\n",
    "print_lines(df, 'dtrs-10', 'grad-2-concept-review-marlen', liwc_subcat, 6, num_lines=1)\n",
    "print_lines(df, 'dtrs-10', 'grad-2-concept-review-marlen', liwc_subcat, 18, num_lines=1)\n",
    "print_lines(df, 'dtrs-10', 'grad-2-concept-review-marlen', liwc_subcat, 29, num_lines=1)\n",
    "print_lines(df, 'dtrs-10', 'grad-2-concept-review-marlen', liwc_subcat, 59, num_lines=1)"
   ]
  },
  {
   "cell_type": "code",
   "execution_count": 24,
   "metadata": {},
   "outputs": [],
   "source": [
    "anomalies1_df = df[df['session'] == 'grad-1-search-review-marlen-david']"
   ]
  },
  {
   "cell_type": "code",
   "execution_count": 25,
   "metadata": {},
   "outputs": [
    {
     "data": {
      "text/plain": [
       "<AxesSubplot:xlabel='speaker', ylabel='count'>"
      ]
     },
     "execution_count": 25,
     "metadata": {},
     "output_type": "execute_result"
    },
    {
     "data": {
      "image/png": "[encoded data removed]",
      "text/plain": [
       "<Figure size 432x288 with 1 Axes>"
      ]
     },
     "metadata": {},
     "output_type": "display_data"
    }
   ],
   "source": [
    "sns.countplot(data=anomalies1_df, x='speaker', palette='Set2')"
   ]
  },
  {
   "cell_type": "code",
   "execution_count": 27,
   "metadata": {},
   "outputs": [
    {
     "name": "stdout",
     "output_type": "stream",
     "text": [
      "(279, 5)\n",
      "(127, 5)\n",
      "(94, 5)\n"
     ]
    }
   ],
   "source": [
    "print(anomalies1_df.shape)\n",
    "print(anomalies1_df[anomalies1_df.speaker == 'Steve'].shape)\n",
    "print(anomalies1_df[anomalies1_df.speaker == 'Marlen'].shape)\n"
   ]
  },
  {
   "cell_type": "code",
   "execution_count": 36,
   "metadata": {},
   "outputs": [],
   "source": [
    "\n",
    "anomalies2_df = df[df['session'] == 'grad-3-client-review-marlen']"
   ]
  },
  {
   "cell_type": "code",
   "execution_count": 37,
   "metadata": {},
   "outputs": [
    {
     "data": {
      "text/plain": [
       "<AxesSubplot:xlabel='speaker', ylabel='count'>"
      ]
     },
     "execution_count": 37,
     "metadata": {},
     "output_type": "execute_result"
    },
    {
     "data": {
      "image/png": "[encoded data removed]",
      "text/plain": [
       "<Figure size 432x288 with 1 Axes>"
      ]
     },
     "metadata": {},
     "output_type": "display_data"
    }
   ],
   "source": [
    "sns.countplot(data=anomalies2_df, x='speaker', palette='Set2')"
   ]
  },
  {
   "cell_type": "code",
   "execution_count": 39,
   "metadata": {},
   "outputs": [
    {
     "name": "stdout",
     "output_type": "stream",
     "text": [
      "(71, 5)\n",
      "(16, 5)\n",
      "(35, 5)\n"
     ]
    }
   ],
   "source": [
    "print(anomalies2_df.shape)\n",
    "print(anomalies2_df[anomalies2_df.speaker == 'Chris'].shape)\n",
    "print(anomalies2_df[anomalies2_df.speaker == 'Marlen'].shape)\n"
   ]
  },
  {
   "cell_type": "code",
   "execution_count": null,
   "metadata": {},
   "outputs": [],
   "source": []
  }
 ],
 "metadata": {
  "kernelspec": {
   "display_name": "Python 3",
   "language": "python",
   "name": "python3"
  },
  "language_info": {
   "codemirror_mode": {
    "name": "ipython",
    "version": 3
   },
   "file_extension": ".py",
   "mimetype": "text/x-python",
   "name": "python",
   "nbconvert_exporter": "python",
   "pygments_lexer": "ipython3",
   "version": "3.9.0"
  }
 },
 "nbformat": 4,
 "nbformat_minor": 4
}
